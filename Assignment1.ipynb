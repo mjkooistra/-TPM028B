{
 "cells": [
  {
   "cell_type": "markdown",
   "id": "4f1388f9-0234-4ab2-8a36-aa6401d9368b",
   "metadata": {},
   "source": [
    "# Assignment Submission\n",
    "\n",
    "**Group Members:**\n",
    "\n",
    "- **Name:** [Enter Name Here]  \n",
    "  **Student Number:** [Enter Student Number Here]\n",
    "\n",
    "- **Name:** [Enter Name Here]  \n",
    "  **Student Number:** [Enter Student Number Here]\n",
    "\n",
    "- **Name:** [Enter Name Here]  \n",
    "  **Student Number:** [Enter Student Number Here]\n"
   ]
  },
  {
   "cell_type": "markdown",
   "id": "afcd770a-2959-484f-80aa-942677c9b4e3",
   "metadata": {},
   "source": [
    "# Code for Reading Required Data"
   ]
  },
  {
   "cell_type": "code",
   "execution_count": 8,
   "id": "7b3ed042-3266-482f-9592-5551a9573778",
   "metadata": {},
   "outputs": [
    {
     "name": "stdout",
     "output_type": "stream",
     "text": [
      "\n",
      "Sample of availability parameter a_ijm: {(0, 0, 1): 0, (0, 0, 2): 0, (0, 0, 3): 0, (0, 1, 1): 1, (0, 1, 2): 1, (0, 1, 3): 0, (0, 2, 1): 1, (0, 2, 2): 0, (0, 2, 3): 0, (0, 3, 1): 1}\n",
      "\n",
      "Sample of cost parameter c: {(0, 0, 1): 0, (0, 0, 2): 0, (0, 0, 3): 0, (0, 1, 1): 40.13708808615559, (0, 1, 2): 75.25704016154174, (0, 1, 3): 0, (0, 2, 1): 65.9372392458804, (0, 2, 2): 0, (0, 2, 3): 0, (0, 3, 1): 26.204295369805312}\n",
      "\n",
      "Sample of risk parameter r: {(0, 0, 1): 0, (0, 0, 2): 0, (0, 0, 3): 0, (0, 1, 1): 0.8802857225639664, (0, 1, 2): 0.5786948661456602, (0, 1, 3): 0, (0, 2, 1): 0.7394633936788146, (0, 2, 2): 0, (0, 2, 3): 0, (0, 3, 1): 0.562397808134481}\n",
      "\n",
      "Sample of travel time parameter t: {(0, 0, 1): 0, (0, 0, 2): 0, (0, 0, 3): 0, (0, 1, 1): 0.5017136010769448, (0, 1, 2): 0.6271420013461811, (0, 1, 3): 0, (0, 2, 1): 0.8242154905735051, (0, 2, 2): 0, (0, 2, 3): 0, (0, 3, 1): 0.3275536921225664}\n",
      "\n",
      "Sample Transshipment Cost (alpha): {0: 3.289602, 1: 3.373472, 2: 7.262073, 3: 7.950742, 4: 6.380261}\n",
      "\n",
      "Sample Transshipment Time (tau): {0: 2.581072288635586, 1: 3.47776229739969, 2: 1.895123292969978, 3: 3.519841494017416, 4: 3.318468340050413}\n",
      "\n",
      "Sample Time Limits (T): {(0, 1): 0.855053871532307, (0, 2): 0.8066288897088005, (0, 3): 1.429432529246517, (0, 4): 1.83903425352416, (0, 5): 0.2189561902037588}\n",
      "\n",
      "Sample Demand Quantity (q): {(0, 1): 30, (0, 2): 41, (0, 3): 41, (0, 4): 46, (0, 5): 39}\n"
     ]
    }
   ],
   "source": [
    "import pandas as pd\n",
    "import gurobipy as gp\n",
    "from gurobipy import GRB\n",
    "\n",
    "# Load data from Excel file\n",
    "file_path = 'data20.xlsx'\n",
    "excel_data = pd.ExcelFile(file_path)\n",
    "\n",
    "# General Information - Extracting the number of nodes, travel speeds, and cost per km for each mode\n",
    "general_info = pd.read_excel(excel_data, sheet_name='General', index_col=0)\n",
    "general_info.index = general_info.index.str.strip().str.lower()  # Normalize labels for consistency\n",
    "\n",
    "# Extract the number of nodes\n",
    "number_of_nodes = int(general_info.loc['number of nodes'][0])\n",
    "\n",
    "# Speeds and costs per km for each mode\n",
    "speeds = {\n",
    "    1: general_info.loc['travel speed truck'][0],\n",
    "    2: general_info.loc['travel speed train'][0],\n",
    "    3: general_info.loc['travel speed boat'][0]\n",
    "}\n",
    "cost_per_km = {\n",
    "    1: general_info.loc['travel cost truck'][0],\n",
    "    2: general_info.loc['travel cost train'][0],\n",
    "    3: general_info.loc['travel cost boat'][0]\n",
    "}\n",
    "\n",
    "# Distance and Risk Matrices\n",
    "distance_matrix = pd.read_excel(excel_data, sheet_name='Distance', index_col=0)\n",
    "risk_matrices = {\n",
    "    1: pd.read_excel(excel_data, sheet_name='Risk Road', index_col=0),\n",
    "    2: pd.read_excel(excel_data, sheet_name='Risk Train', index_col=0),\n",
    "    3: pd.read_excel(excel_data, sheet_name='Risk Water', index_col=0)\n",
    "}\n",
    "\n",
    "# Define Parameters: a_ijm (availability), r (risk), c (cost), t (time)\n",
    "a_ijm, r, c, t = {}, {}, {}, {}\n",
    "for i in range(number_of_nodes):\n",
    "    for j in range(number_of_nodes):\n",
    "        distance = distance_matrix.iloc[i, j]\n",
    "        for m in [1, 2, 3]:  # Modes: 1 = road, 2 = rail, 3 = water\n",
    "            available = risk_matrices[m].iloc[i, j] > 0\n",
    "            a_ijm[(i, j, m)] = int(available)\n",
    "            r[(i, j, m)] = risk_matrices[m].iloc[i, j] if available else 0\n",
    "            c[(i, j, m)] = distance * cost_per_km[m] if available else 0  # Use the cost per km here\n",
    "            t[(i, j, m)] = distance / speeds[m] if available else 0\n",
    "\n",
    "# Transshipment Parameters - Alpha (cost) and Tau (time)\n",
    "alpha = pd.read_excel(excel_data, sheet_name='Alpha', index_col=0)['Alpha'].to_dict()\n",
    "tau = pd.read_excel(excel_data, sheet_name='Tau', index_col=0)['Tau'].to_dict()\n",
    "\n",
    "# Time Limits (T) for each commodity (origin-destination pair)\n",
    "T = {(int(row['Origin']), int(row['Destination'])): row['Time Limit']\n",
    "     for _, row in pd.read_excel(excel_data, sheet_name='T').iterrows()}\n",
    "\n",
    "# Demand quantity (q) for each commodity\n",
    "q_df = pd.read_excel(excel_data, sheet_name='Q', index_col=0)\n",
    "q = {(i, j): q_df.iloc[i, j] for i in range(number_of_nodes) for j in range(number_of_nodes) if i != j}\n",
    "\n",
    "# Sets for Gurobi optimization\n",
    "V = range(number_of_nodes)  # Nodes\n",
    "K = [(i, j) for i in V for j in V if i != j]  # Commodities (origin-destination pairs)\n",
    "\n",
    "# Sample display to verify the parameters\n",
    "print(\"\\nSample of availability parameter a_ijm:\", {key: a_ijm[key] for key in list(a_ijm.keys())[:10]})\n",
    "print(\"\\nSample of cost parameter c:\", {key: c[key] for key in list(c.keys())[:10]})\n",
    "print(\"\\nSample of risk parameter r:\", {key: r[key] for key in list(r.keys())[:10]})\n",
    "print(\"\\nSample of travel time parameter t:\", {key: t[key] for key in list(t.keys())[:10]})\n",
    "print(\"\\nSample Transshipment Cost (alpha):\", {j: alpha[j] for j in list(V)[:5]})\n",
    "print(\"\\nSample Transshipment Time (tau):\", {j: tau[j] for j in list(V)[:5]})\n",
    "print(\"\\nSample Time Limits (T):\", {k: T[k] for k in list(T.keys())[:5]})\n",
    "print(\"\\nSample Demand Quantity (q):\", {k: q[k] for k in list(q.keys())[:5]})\n"
   ]
  },
  {
   "cell_type": "markdown",
   "id": "55dab59d-2f70-4f78-81aa-39dbea9f4e6a",
   "metadata": {},
   "source": [
    "# Question 1"
   ]
  },
  {
   "attachments": {},
   "cell_type": "markdown",
   "id": "bc44305e-d74d-46e8-9ea8-27477d833813",
   "metadata": {},
   "source": [
    "Write the mathematical model here\n",
    "\n",
    "\\begin{align}\n",
    "\\min \\quad & \\sum_{i \\in V}\n",
    "\\end{align}"
   ]
  },
  {
   "cell_type": "markdown",
   "id": "da0e366b-58f2-4fce-ba8f-4a01e0ed4f2c",
   "metadata": {},
   "source": [
    "Write the code here"
   ]
  },
  {
   "cell_type": "markdown",
   "id": "96fbedbb-ef5f-442a-8cec-f532b71c6a2d",
   "metadata": {},
   "source": [
    "Visualize the results"
   ]
  },
  {
   "cell_type": "markdown",
   "id": "b52194fc-8377-4340-a028-7750fffe7e91",
   "metadata": {},
   "source": [
    "# Question 2"
   ]
  },
  {
   "cell_type": "markdown",
   "id": "ef7a4d86-5a8d-4cad-9cb4-b676ae9dd80e",
   "metadata": {},
   "source": [
    "Write the mathematical model here\n",
    "\n",
    "\\begin{align}\n",
    "\\min \\quad & \\sum_{i \\in V}\n",
    "\\end{align}"
   ]
  },
  {
   "cell_type": "markdown",
   "id": "41501e3c-e0ea-4d6d-9fd9-8945b55480b6",
   "metadata": {},
   "source": [
    "Write the code here"
   ]
  },
  {
   "cell_type": "markdown",
   "id": "2abae767-f9f6-4ace-a388-828f8cc7bb1f",
   "metadata": {},
   "source": [
    "Visualize the results"
   ]
  },
  {
   "cell_type": "markdown",
   "id": "6f0cd8c7-ddf8-482a-9158-bedd00cff616",
   "metadata": {},
   "source": [
    "# Question 3"
   ]
  },
  {
   "cell_type": "markdown",
   "id": "74057822-35ea-4243-9f84-548aadd6598e",
   "metadata": {},
   "source": [
    "Write the mathematical model here\n",
    "\n",
    "\\begin{align}\n",
    "\\min \\quad & \\sum_{i \\in V}\n",
    "\\end{align}"
   ]
  },
  {
   "cell_type": "markdown",
   "id": "9eff9659-6ac5-4ec7-8bfb-dca2763247f5",
   "metadata": {},
   "source": [
    "Write the code here"
   ]
  },
  {
   "cell_type": "markdown",
   "id": "9b4b3cff-e502-4a65-ba18-f36a006003c4",
   "metadata": {},
   "source": [
    "Visualize the results"
   ]
  },
  {
   "cell_type": "markdown",
   "id": "ed5f13e2-b04d-496f-acc1-c84f4930f27e",
   "metadata": {},
   "source": [
    "# Question 4"
   ]
  },
  {
   "cell_type": "markdown",
   "id": "3e523e5f-dc44-4851-86b4-77b30a7d0084",
   "metadata": {},
   "source": [
    "Write the mathematical model here\n",
    "\n",
    "\\begin{align}\n",
    "\\min \\quad & \\sum_{i \\in V}\n",
    "\\end{align}"
   ]
  },
  {
   "cell_type": "markdown",
   "id": "713313b3-0d59-465a-8a0a-3c17260f750e",
   "metadata": {},
   "source": [
    "Write the code here"
   ]
  },
  {
   "cell_type": "markdown",
   "id": "5b951e71-b66b-4e97-80ee-91da994c0b8c",
   "metadata": {},
   "source": [
    "Visualize the results"
   ]
  },
  {
   "cell_type": "markdown",
   "id": "88475ee4-3bc2-4100-8b14-3831499d93b9",
   "metadata": {},
   "source": [
    "# Question 5"
   ]
  },
  {
   "cell_type": "code",
   "execution_count": null,
   "id": "61918964-13dc-4d80-a1ac-6d01a83e5571",
   "metadata": {},
   "outputs": [],
   "source": []
  }
 ],
 "metadata": {
  "kernelspec": {
   "display_name": "Python 3 (ipykernel)",
   "language": "python",
   "name": "python3"
  },
  "language_info": {
   "codemirror_mode": {
    "name": "ipython",
    "version": 3
   },
   "file_extension": ".py",
   "mimetype": "text/x-python",
   "name": "python",
   "nbconvert_exporter": "python",
   "pygments_lexer": "ipython3",
   "version": "3.8.19"
  }
 },
 "nbformat": 4,
 "nbformat_minor": 5
}
